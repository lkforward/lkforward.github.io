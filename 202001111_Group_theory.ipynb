{
  "nbformat": 4,
  "nbformat_minor": 0,
  "metadata": {
    "colab": {
      "name": "202001111_Group_theory.ipynb",
      "provenance": [],
      "collapsed_sections": [],
      "authorship_tag": "ABX9TyMvh/dL9nKJusGgZXY4k9y/",
      "include_colab_link": true
    },
    "kernelspec": {
      "name": "python3",
      "display_name": "Python 3"
    }
  },
  "cells": [
    {
      "cell_type": "markdown",
      "metadata": {
        "id": "view-in-github",
        "colab_type": "text"
      },
      "source": [
        "<a href=\"https://colab.research.google.com/github/lkforward/lkforward.github.io/blob/master/202001111_Group_theory.ipynb\" target=\"_parent\"><img src=\"https://colab.research.google.com/assets/colab-badge.svg\" alt=\"Open In Colab\"/></a>"
      ]
    },
    {
      "cell_type": "code",
      "metadata": {
        "id": "_7RKC0PKuKGu",
        "colab_type": "code",
        "colab": {}
      },
      "source": [
        ""
      ],
      "execution_count": 0,
      "outputs": []
    },
    {
      "cell_type": "markdown",
      "metadata": {
        "id": "ApAEJtbhuODU",
        "colab_type": "text"
      },
      "source": [
        "This article is by no means a replacement of any rigorous textbook or courses on abstract algebra or group theory. It just represents some of my attempts to understand the concepts of group in an intuitive (and hopefully joyful) way.  \n",
        "\n",
        "## _Ingredients:_ \n",
        "- Some rigorous math notations (for definitions and proofs): ~30% \n",
        "- Intuitivive explanation in layman's language: ~70%\n",
        "\n",
        "# 1. A \"Closed\" Playground: Definitions of Group\n",
        "The defition of group can be simply expressed as \"group = set + operation\". Set is a very general concept and can be a set of anything (really anything). But just like we want any game (soccer or basketball) to play within a boundary, the operation on this set has to be \"closed\". \n",
        "\n",
        "**Definition 1.1.** A group is a set G associated with a binary operation: $G \\times G \\rightarrow G$ that associates an element $a \\cdot b \\in G$ to every pair of elements $a$ and $b$. The operation must satisfy the following conditions: \n",
        "\n",
        "G1: Associativity: $a\\cdot (b \\cdot c) = (a\\cdot b) \\cdot c$\n",
        "\n",
        "G2: Identify: $a \\cdot e = e \\cdot a = a$\n",
        "\n",
        "G3: Inverse: $\\forall a \\in G$, there is a $a^{-1} \\in G$, s.t. $a \\cdot a^{-1}=a^{-1} \\cdot a = e$\n",
        "\n",
        "# 2. Subgroup: What Are \"Inside\" a Group?\n",
        "Now we have a \"boundary\" by requiring the group to have a closed operation, and the next question to ask is, \"what can we do within a group\"?\n",
        "\n",
        "The most interesting idea (to me) in group theory is that you can have subgroups within a group. A subgroup is essentially a subset of the group that can be called a group as well. An analog in real life could be small families (with your parents and you) in a large family (with your grandparents, your uncle and his family, your aunt and her famility, etc). \n",
        "\n",
        "To check whether a subset is a subgroup or not, we should check the three conditions (G1 to G3) as listed in section 1 in principle. However, we can show that as long as the same operation is closed within the subset, it is a group and thus quaifies as a \"subgroup\".  \n",
        "\n",
        "**Theorem 2.1.** A subset H of a group G is a subgroup iff ...\n",
        "\n",
        "*Proof:* \n",
        "\n",
        "# 3. Cosets: The \"shifted images\" of group/subgroup. \n",
        "\n",
        "**Definition 3.1.** If $H$ is a subgroup in a group $G$, any set of the form $gH:=\\{g\\cdot h: g \\in G, h \\in H\\}$ is a left $H$-coset in $G$. \n",
        "\n",
        "NOTE: A $H$-coset in $G$ does not have to be a subgroup of $G$.\n",
        "\n",
        "From the definition, we can tell that a coset is nothing but a subgroup \"shifted\" by the translation (defined by $g$). And in fact, any translation of the form $L_g(h)=g\\cdot h$ is bijective. So, we can think of the translation as the \"magical mirror\" that projects a subgroup to a different set (a coset). \n",
        "\n",
        "Interesting properties of cosets: \n",
        "\n",
        "gH = H iff g in H; \n",
        "\n",
        "g1H = g2H if they have one element in common; otherwise disjoint. \n",
        "\n",
        "Any gH/Hg has a bijection to H; In other words, any gH has the same order as H. \n",
        "\n",
        "Lagrange's theorem: \n",
        "\n",
        "# 4. Extended Reading\n",
        "Background: How group theory come in history and the role of abstract algebra in the development of modern mathematics.\n",
        "\n",
        "Group theoretical methods for machine learning: \n",
        "\n",
        "## _REFERENCES:_\n",
        "\n"
      ]
    },
    {
      "cell_type": "code",
      "metadata": {
        "id": "4j1vdfqOwdki",
        "colab_type": "code",
        "colab": {}
      },
      "source": [
        ""
      ],
      "execution_count": 0,
      "outputs": []
    }
  ]
}